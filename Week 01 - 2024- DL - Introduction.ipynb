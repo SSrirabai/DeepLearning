{
 "cells": [
  {
   "cell_type": "markdown",
   "metadata": {
    "colab_type": "toc",
    "id": "cxEfAUuvbscX"
   },
   "source": [
    ">[Task 1: Resources to check and play around it](#scrollTo=4ecW88IDQ_wg)\n",
    "\n",
    ">>[Google colab turorial](#scrollTo=4ecW88IDQ_wg)\n",
    "\n",
    ">>[AI Hub](#scrollTo=4ecW88IDQ_wg)\n",
    "\n",
    ">>[Kaggle 💰💰💰💰💰💰](#scrollTo=4ecW88IDQ_wg)\n",
    "\n",
    ">>[Topcoder 💰💰💰💰💰💰](#scrollTo=4ecW88IDQ_wg)\n",
    "\n",
    ">>[Grand Challenge](#scrollTo=4ecW88IDQ_wg)\n",
    "\n",
    ">>[Pytorch - We will use this framework in our classes](#scrollTo=4ecW88IDQ_wg)\n",
    "\n",
    ">>[TensorFlow](#scrollTo=4ecW88IDQ_wg)\n",
    "\n",
    ">>[mxnet](#scrollTo=4ecW88IDQ_wg)\n",
    "\n",
    ">>[Weights & Biases](#scrollTo=4ecW88IDQ_wg)\n",
    "\n",
    ">[Task 2: Use Google colab calculate followings](#scrollTo=fWiNzyTBlt9I)\n",
    "\n",
    ">[Task 3: Overview of Colaboratory Features](#scrollTo=hF-76fMozG4u)\n",
    "\n",
    ">[Task 4: Google colab Markdown.](#scrollTo=SuQaaXb0rSDl)\n",
    "\n",
    ">[Task 5: Importing libraries and installing dependencies](#scrollTo=bHbcLhvJ0sFP)\n",
    "\n",
    ">[Task 6 : Save your work (Google drive and Github)](#scrollTo=n68kI-IB3XmL)\n",
    "\n",
    ">[Task 7: Interactive features](#scrollTo=2seMLKDB39JR)\n",
    "\n",
    ">[Task 8: External data: Local Files, Drive, Sheets, and Cloud Storage](#scrollTo=ROJX3KiQ_RrF)\n",
    "\n",
    ">[Task 9: Chart Options](#scrollTo=Ks4NCD-YAYtD)\n",
    "\n",
    ">[Task 10: pandas DataFrames](#scrollTo=y2jT-ow_CAOO)\n",
    "\n",
    ">[Task 11: How to use GPUs](#scrollTo=Qq-YekblCdKF)\n",
    "\n",
    ">[Task 12: What is Tensorboard?](#scrollTo=xBiLbv6YDYKN)\n",
    "\n",
    ">[Task 13: How to use Weights and Biases with notebooks](#scrollTo=ZXO0B0G6Geqf)\n",
    "\n"
   ]
  },
  {
   "cell_type": "markdown",
   "metadata": {
    "id": "4ecW88IDQ_wg"
   },
   "source": [
    "# Task 1: Resources to check and play around it\n",
    "\n",
    "![Image](https://drive.google.com/uc?id=1HxV4Ff-dY4TbQ2qpP2zGg11wLfbh9NtZ)\n",
    "\n",
    "1. ## [Google colab turorial](https://colab.research.google.com/?utm_source=scs-index)\n",
    "1. ## [AI Hub](https://aihub.cloud.google.com/u/0/)\n",
    "1. ## [Kaggle](https://www.kaggle.com/) 💰💰💰💰💰💰\n",
    "1. ## [Topcoder](https://www.topcoder.com/) 💰💰💰💰💰💰\n",
    "1. ## [Grand Challenge](https://grand-challenge.org/)\n",
    "1. ## [**Pytorch**](https://pytorch.org/) - We will use this framework in our classes\n",
    "  * check installation instruction\n",
    "  * Tutorial page\n",
    "  * Documentation\n",
    "\n",
    "1. ## [TensorFlow](https://www.tensorflow.org/)\n",
    "1. ## [mxnet](https://mxnet.apache.org/versions/1.9.1/)\n",
    "1. ## [Weights & Biases](https://wandb.ai/site)\n",
    "\n",
    "\n"
   ]
  },
  {
   "cell_type": "markdown",
   "metadata": {
    "id": "fWiNzyTBlt9I"
   },
   "source": [
    "# Task 2: Use Google colab calculate followings\n",
    "\n",
    "![image](https://drive.google.com/uc?id=1C0G3oCNDJaoyEoN53Tlhan_-s5VCNVSK)"
   ]
  },
  {
   "cell_type": "code",
   "execution_count": null,
   "metadata": {
    "id": "DCGybq-OlyVB"
   },
   "outputs": [],
   "source": [
    "# Number of minutes per year"
   ]
  },
  {
   "cell_type": "code",
   "execution_count": null,
   "metadata": {
    "id": "-8ebZ5kqmIHu"
   },
   "outputs": [],
   "source": [
    "# Number of seconds per year (using the above calculation)"
   ]
  },
  {
   "cell_type": "markdown",
   "metadata": {
    "id": "hF-76fMozG4u"
   },
   "source": [
    "# Task 3: Overview of Colaboratory Features\n",
    "Follow this [link](https://colab.research.google.com/notebooks/basic_features_overview.ipynb) and do them yourself."
   ]
  },
  {
   "cell_type": "markdown",
   "metadata": {
    "id": "SuQaaXb0rSDl"
   },
   "source": [
    "# Task 4: Google colab Markdown.\n",
    "Follow this notebook [link](https://colab.research.google.com/notebooks/markdown_guide.ipynb) and play with it. Add new markdown cells and practice your own. 😇\n",
    "\n"
   ]
  },
  {
   "cell_type": "markdown",
   "metadata": {
    "id": "bHbcLhvJ0sFP"
   },
   "source": [
    "# Task 5: Importing libraries and installing dependencies\n",
    "Try this yourself: [Link](https://colab.research.google.com/notebooks/snippets/importing_libraries.ipynb)"
   ]
  },
  {
   "cell_type": "markdown",
   "metadata": {
    "id": "n68kI-IB3XmL"
   },
   "source": [
    "# Task 6 : Save your work (Google drive and Github)\n",
    "How❓ [Link](https://colab.research.google.com/github/googlecolab/colabtools/blob/main/notebooks/colab-github-demo.ipynb)"
   ]
  },
  {
   "cell_type": "markdown",
   "metadata": {
    "id": "2seMLKDB39JR"
   },
   "source": [
    "# Task 7: Interactive features\n",
    "Do it yourself 🦾 : [Link 1](https://colab.research.google.com/notebooks/forms.ipynb), [Link 2]()"
   ]
  },
  {
   "cell_type": "markdown",
   "metadata": {
    "id": "ROJX3KiQ_RrF"
   },
   "source": [
    "# Task 8: External data: Local Files, Drive, Sheets, and Cloud Storage\n",
    "\n",
    "Do this: [Link](https://colab.research.google.com/notebooks/io.ipynb)"
   ]
  },
  {
   "cell_type": "markdown",
   "metadata": {
    "id": "Ks4NCD-YAYtD"
   },
   "source": [
    "# Task 9: Chart Options\n",
    "\n",
    "Follow and do this: [Link](https://colab.research.google.com/notebooks/charts.ipynb)"
   ]
  },
  {
   "cell_type": "markdown",
   "metadata": {
    "id": "y2jT-ow_CAOO"
   },
   "source": [
    "# Task 10: pandas DataFrames\n",
    "Try these yourself: [Link 1](https://colab.research.google.com/notebooks/mlcc/intro_to_pandas.ipynb), [Link 2](https://pandas.pydata.org/docs/user_guide/10min.html)"
   ]
  },
  {
   "cell_type": "markdown",
   "metadata": {
    "id": "Qq-YekblCdKF"
   },
   "source": [
    "# Task 11: How to use GPUs\n",
    "Try: [Link](https://colab.research.google.com/github/phlippe/uvadlc_notebooks/blob/master/docs/tutorial_notebooks/tutorial2/Introduction_to_PyTorch.ipynb#scrollTo=6jdq2U3lvoHK) and read GPU support section"
   ]
  },
  {
   "cell_type": "markdown",
   "metadata": {
    "id": "xBiLbv6YDYKN"
   },
   "source": [
    "# Task 12: What is Tensorboard?\n",
    "[Link](https://colab.research.google.com/github/pytorch/tutorials/blob/gh-pages/_downloads/tensorboard_with_pytorch.ipynb)"
   ]
  },
  {
   "cell_type": "markdown",
   "metadata": {
    "id": "ZXO0B0G6Geqf"
   },
   "source": [
    "# Task 13: How to use Weights and Biases with notebooks\n",
    "[Link](https://colab.research.google.com/github/wandb/examples/blob/master/colabs/intro/Intro_to_Weights_%26_Biases.ipynb)"
   ]
  },
  {
   "cell_type": "markdown",
   "metadata": {
    "id": "ydE0NRnVHxGA"
   },
   "source": [
    "![picture](https://drive.google.com/uc?id=1upCEgN0C03eQ4iaFezf7o6GyqJybxq2r)\n",
    "\n",
    "---\n",
    "\n"
   ]
  }
 ],
 "metadata": {
  "colab": {
   "authorship_tag": "ABX9TyNxCOIyzcww5H79hV0Gq6GP",
   "provenance": [
    {
     "file_id": "1sXzCmlLbwfANHp1hHm7YhTIyiJJteEYp",
     "timestamp": 1693296340112
    }
   ]
  },
  "kernelspec": {
   "display_name": "Python 3 (ipykernel)",
   "language": "python",
   "name": "python3"
  },
  "language_info": {
   "codemirror_mode": {
    "name": "ipython",
    "version": 3
   },
   "file_extension": ".py",
   "mimetype": "text/x-python",
   "name": "python",
   "nbconvert_exporter": "python",
   "pygments_lexer": "ipython3",
   "version": "3.11.5"
  }
 },
 "nbformat": 4,
 "nbformat_minor": 1
}
