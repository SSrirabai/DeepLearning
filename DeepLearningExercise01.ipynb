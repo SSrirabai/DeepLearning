{
  "nbformat": 4,
  "nbformat_minor": 0,
  "metadata": {
    "colab": {
      "provenance": [],
      "authorship_tag": "ABX9TyO9O1XYwDalWaM34J7lpoCn",
      "include_colab_link": true
    },
    "kernelspec": {
      "name": "python3",
      "display_name": "Python 3"
    },
    "language_info": {
      "name": "python"
    }
  },
  "cells": [
    {
      "cell_type": "markdown",
      "metadata": {
        "id": "view-in-github",
        "colab_type": "text"
      },
      "source": [
        "<a href=\"https://colab.research.google.com/github/SSrirabai/DeepLearning/blob/main/DeepLearningExercise01.ipynb\" target=\"_parent\"><img src=\"https://colab.research.google.com/assets/colab-badge.svg\" alt=\"Open In Colab\"/></a>"
      ]
    },
    {
      "cell_type": "code",
      "execution_count": null,
      "metadata": {
        "id": "_rr1PdsFja-v",
        "colab": {
          "base_uri": "https://localhost:8080/"
        },
        "outputId": "0c0c5d59-ff21-4ebf-b2d0-f47a00b7e802"
      },
      "outputs": [
        {
          "output_type": "stream",
          "name": "stdout",
          "text": [
            "There are 525600 minutes in a year.\n"
          ]
        }
      ],
      "source": [
        "### Task 1: Calculate number of seconds in a year.\n",
        "\n",
        "###  Variable list\n",
        "\n",
        "seconds_in_minute = 60\n",
        "minutes_in_hour = 60\n",
        "hours_in_day = 24\n",
        "day_in_year = 365\n",
        "\n",
        "# Calculation\n",
        "\n",
        "minutes_in_year = minutes_in_hour * hours_in_day * day_in_year\n",
        "\n",
        "# Print result\n",
        "\n",
        "print(f\"There are {minutes_in_year} minutes in a year.\")\n",
        "\n"
      ]
    },
    {
      "cell_type": "markdown",
      "source": [],
      "metadata": {
        "id": "bVKwoBjrDyeM"
      }
    },
    {
      "cell_type": "code",
      "source": [
        "### Task 1: Calculate number of seconds in a year.  (using the above calculation)\n",
        "\n",
        "\n",
        "seconds_in_year = minutes_in_year * seconds_in_minute\n",
        "# Print result\n",
        "\n",
        "print(f\"There are {seconds_in_year} seconds in a year.\")\n",
        "\n"
      ],
      "metadata": {
        "colab": {
          "base_uri": "https://localhost:8080/"
        },
        "id": "fVZr4WMwCqK8",
        "outputId": "10f936f1-2687-45b7-d5bd-ded36bfc5773"
      },
      "execution_count": null,
      "outputs": [
        {
          "output_type": "stream",
          "name": "stdout",
          "text": [
            "There are 31536000 seconds in a year.\n"
          ]
        }
      ]
    },
    {
      "cell_type": "code",
      "source": [
        "# Importing a library that is not in Colaboratory\n",
        "\n",
        "!pip install matplotlib-venn"
      ],
      "metadata": {
        "id": "8NOgm5NwD-c6"
      },
      "execution_count": null,
      "outputs": []
    }
  ]
}